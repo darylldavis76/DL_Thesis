{
 "cells": [
  {
   "cell_type": "code",
   "execution_count": 2,
   "metadata": {},
   "outputs": [],
   "source": [
    "# Set threading parameters before importing TensorFlow\n",
    "import os\n",
    "import multiprocessing\n",
    "\n",
    "# Set environment variables\n",
    "os.environ[\"OMP_NUM_THREADS\"] = \"20\"\n",
    "os.environ['TF_NUM_INTRAOP_THREADS'] = '20'\n",
    "os.environ['TF_NUM_INTEROP_THREADS'] = '20'\n",
    "\n",
    "import numpy as np\n",
    "import pandas as pd\n",
    "import tensorflow as tf\n",
    "import keras_tuner as kt\n",
    "from tensorflow.keras.layers import Input, LSTM, Bidirectional, Dense, Concatenate, Multiply, Permute, Lambda, Reshape, Activation, Dropout, Add, GlobalMaxPooling1D, GlobalAvgPool1D\n",
    "from tensorflow.keras.models import Model\n",
    "from tensorflow.keras.utils import plot_model\n",
    "import pydot\n",
    "\n",
    "# Set threading configuration\n",
    "tf.config.threading.set_intra_op_parallelism_threads(20)\n",
    "tf.config.threading.set_inter_op_parallelism_threads(20)"
   ]
  },
  {
   "cell_type": "code",
   "execution_count": 3,
   "metadata": {},
   "outputs": [
    {
     "name": "stdout",
     "output_type": "stream",
     "text": [
      "2.10.1\n",
      "[PhysicalDevice(name='/physical_device:GPU:0', device_type='GPU')]\n"
     ]
    },
    {
     "data": {
      "text/plain": [
       "True"
      ]
     },
     "execution_count": 3,
     "metadata": {},
     "output_type": "execute_result"
    }
   ],
   "source": [
    "print(tf.__version__)\n",
    "print(tf.config.experimental.list_physical_devices('GPU'))\n",
    "\n",
    "tf.test.is_built_with_cuda()"
   ]
  },
  {
   "cell_type": "code",
   "execution_count": 4,
   "metadata": {},
   "outputs": [
    {
     "name": "stdout",
     "output_type": "stream",
     "text": [
      "Num GPUs Available:  1\n",
      "Intra op parallelism threads:  20\n",
      "Inter op parallelism threads:  20\n"
     ]
    }
   ],
   "source": [
    "print(\"Num GPUs Available: \", len(tf.config.experimental.list_physical_devices('GPU')))\n",
    "print(\"Intra op parallelism threads: \", tf.config.threading.get_intra_op_parallelism_threads())\n",
    "print(\"Inter op parallelism threads: \", tf.config.threading.get_inter_op_parallelism_threads())\n"
   ]
  },
  {
   "cell_type": "markdown",
   "metadata": {},
   "source": [
    "### GPU and CPU configuration  "
   ]
  },
  {
   "cell_type": "code",
   "execution_count": 5,
   "metadata": {},
   "outputs": [
    {
     "name": "stdout",
     "output_type": "stream",
     "text": [
      "1 Physical GPUs, 1 Logical GPUs\n"
     ]
    }
   ],
   "source": [
    "# ensuring Tensorflow is using the GPU\n",
    "gpus = tf.config.list_physical_devices('GPU')\n",
    "if gpus:\n",
    "    try:\n",
    "        for gpu in gpus:\n",
    "            tf.config.experimental.set_memory_growth(gpu, True)\n",
    "        logical_gpus = tf.config.experimental.list_logical_devices('GPU')\n",
    "        print(f\"{len(gpus)} Physical GPUs, {len(logical_gpus)} Logical GPUs\")\n",
    "    except RuntimeError as e:\n",
    "        # Memory growth must be set before GPUs have been initialized\n",
    "        print(e)\n",
    "else:\n",
    "    print(\"No GPU found. Using the CPU instead.\")\n"
   ]
  },
  {
   "cell_type": "markdown",
   "metadata": {},
   "source": [
    "### Run this section only if there exists string values"
   ]
  },
  {
   "cell_type": "code",
   "execution_count": 7,
   "metadata": {},
   "outputs": [
    {
     "name": "stdout",
     "output_type": "stream",
     "text": [
      "Cleaning stator files...\n",
      "Cleaned file saved: D:\\MTdataset\\DL_dataset\\Python_DL\\Final_current_vibration_data\\01_SCIM_current_allfault_360V.csv\n",
      "Cleaned file saved: D:\\MTdataset\\DL_dataset\\Python_DL\\Final_current_vibration_data\\02_SCIM_current_PTPab_400V.csv\n",
      "Cleaned file saved: D:\\MTdataset\\DL_dataset\\Python_DL\\Final_current_vibration_data\\03_SCIM_current_PTPab_480V.csv\n",
      "Cleaned file saved: D:\\MTdataset\\DL_dataset\\Python_DL\\Final_current_vibration_data\\04_SCIM_current_PTGa_360V.csv\n",
      "Cleaned file saved: D:\\MTdataset\\DL_dataset\\Python_DL\\Final_current_vibration_data\\05_SCIM_current_PTGb_360V.csv\n",
      "Cleaned file saved: D:\\MTdataset\\DL_dataset\\Python_DL\\Final_current_vibration_data\\06_SCIM_current_PTGc_360V.csv\n",
      "Cleaned file saved: D:\\MTdataset\\DL_dataset\\Python_DL\\Final_current_vibration_data\\07_SCIM_current_PTPbc_400V.csv\n",
      "\n",
      "Cleaning rotor files...\n",
      "Cleaned file saved: D:\\MTdataset\\DL_dataset\\Python_DL\\Final_current_vibration_data\\01_SCIM_vibration_allfault_360V.csv\n",
      "Cleaned file saved: D:\\MTdataset\\DL_dataset\\Python_DL\\Final_current_vibration_data\\02_SCIM_vibration_PTPab_400V.csv\n",
      "Cleaned file saved: D:\\MTdataset\\DL_dataset\\Python_DL\\Final_current_vibration_data\\03_SCIM_vibration_PTPab_480V.csv\n",
      "Cleaned file saved: D:\\MTdataset\\DL_dataset\\Python_DL\\Final_current_vibration_data\\04_SCIM_vibration_PTGa_360V.csv\n",
      "Cleaned file saved: D:\\MTdataset\\DL_dataset\\Python_DL\\Final_current_vibration_data\\05_SCIM_vibration_PTGb_360V.csv\n",
      "Cleaned file saved: D:\\MTdataset\\DL_dataset\\Python_DL\\Final_current_vibration_data\\06_SCIM_vibration_PTGc_360V.csv\n",
      "Cleaned file saved: D:\\MTdataset\\DL_dataset\\Python_DL\\Final_current_vibration_data\\07_SCIM_vibration_PTPbc_400V.csv\n"
     ]
    }
   ],
   "source": [
    "# Function to clean the 'Time' column\n",
    "def clean_time_column(df):\n",
    "    # Ensure the 'Time' column is treated as a string\n",
    "    df['Time'] = df['Time'].astype(str)\n",
    "    # Remove the unit 'sec' from the 'Time' column\n",
    "    df['Time'] = df['Time'].str.replace(' sec', '', regex=False)\n",
    "    # Convert the 'Time' column to a numeric type\n",
    "    df['Time'] = pd.to_numeric(df['Time'], errors='coerce')\n",
    "    return df\n",
    "\n",
    "# Function to handle missing values\n",
    "def handle_missing_values(df, method='drop', fill_value=0):\n",
    "    if method == 'drop':\n",
    "        # Drop rows with missing values\n",
    "        df = df.dropna()\n",
    "    elif method == 'fill':\n",
    "        # Fill missing values with a specified value\n",
    "        df = df.fillna(fill_value)\n",
    "    elif method == 'interpolate':\n",
    "        # Interpolate missing values\n",
    "        df = df.interpolate()\n",
    "    else:\n",
    "        raise ValueError(\"Invalid method for handling missing values. Use 'drop', 'fill', or 'interpolate'.\")\n",
    "    return df\n",
    "\n",
    "# Function to clean all files in a given list and save them to a directory\n",
    "def clean_csv_files(files, save_directory, missing_value_method='fill', fill_value=0):\n",
    "    if not os.path.exists(save_directory):\n",
    "        os.makedirs(save_directory)  # Create directory if it doesn't exist\n",
    "    \n",
    "    for file in files:\n",
    "        # Read the CSV file\n",
    "        df = pd.read_csv(file)\n",
    "        \n",
    "        # Check if 'Time' column exists\n",
    "        if 'Time' in df.columns:\n",
    "            # Clean the 'Time' column\n",
    "            df = clean_time_column(df)\n",
    "            # Handle missing values\n",
    "            df = handle_missing_values(df, method=missing_value_method, fill_value=fill_value)\n",
    "            # Define the new file path with the same name but in the save directory\n",
    "            filename = os.path.basename(file)\n",
    "            cleaned_file_path = os.path.join(save_directory, filename)\n",
    "            # Save the cleaned file\n",
    "            df.to_csv(cleaned_file_path, index=False)\n",
    "            print(f\"Cleaned file saved: {cleaned_file_path}\")\n",
    "        else:\n",
    "            print(f\"No 'Time' column found in file: {file}\")\n",
    "\n",
    "# Directory where you want to save the cleaned files\n",
    "save_directory = r\"D:\\MTdataset\\DL_dataset\\Python_DL\\Final_current_vibration_data\"\n",
    "\n",
    "# List all of the CSV file paths\n",
    "stator_csv_files_str = [r\"D:\\MTdataset\\DL_dataset\\Python_DL\\Final_current_vibration_data-with_string\\01_SCIM_current_allfault_360V.csv\",\n",
    "r\"D:\\MTdataset\\DL_dataset\\Python_DL\\Final_current_vibration_data-with_string\\02_SCIM_current_PTPab_400V.csv\",\n",
    "r\"D:\\MTdataset\\DL_dataset\\Python_DL\\Final_current_vibration_data-with_string\\03_SCIM_current_PTPab_480V.csv\",\n",
    "r\"D:\\MTdataset\\DL_dataset\\Python_DL\\Final_current_vibration_data-with_string\\04_SCIM_current_PTGa_360V.csv\",\n",
    "r\"D:\\MTdataset\\DL_dataset\\Python_DL\\Final_current_vibration_data-with_string\\05_SCIM_current_PTGb_360V.csv\",\n",
    "r\"D:\\MTdataset\\DL_dataset\\Python_DL\\Final_current_vibration_data-with_string\\06_SCIM_current_PTGc_360V.csv\",\n",
    "r\"D:\\MTdataset\\DL_dataset\\Python_DL\\Final_current_vibration_data-with_string\\07_SCIM_current_PTPbc_400V.csv\"]\n",
    "\n",
    "rotor_csv_files_str = [r\"D:\\MTdataset\\DL_dataset\\Python_DL\\Final_current_vibration_data-with_string\\01_SCIM_vibration_allfault_360V.csv\",\n",
    "r\"D:\\MTdataset\\DL_dataset\\Python_DL\\Final_current_vibration_data-with_string\\02_SCIM_vibration_PTPab_400V.csv\",\n",
    "r\"D:\\MTdataset\\DL_dataset\\Python_DL\\Final_current_vibration_data-with_string\\03_SCIM_vibration_PTPab_480V.csv\",\n",
    "r\"D:\\MTdataset\\DL_dataset\\Python_DL\\Final_current_vibration_data-with_string\\04_SCIM_vibration_PTGa_360V.csv\",\n",
    "r\"D:\\MTdataset\\DL_dataset\\Python_DL\\Final_current_vibration_data-with_string\\05_SCIM_vibration_PTGb_360V.csv\",\n",
    "r\"D:\\MTdataset\\DL_dataset\\Python_DL\\Final_current_vibration_data-with_string\\06_SCIM_vibration_PTGc_360V.csv\",\n",
    "r\"D:\\MTdataset\\DL_dataset\\Python_DL\\Final_current_vibration_data-with_string\\07_SCIM_vibration_PTPbc_400V.csv\"]\n",
    "\n",
    "# Clean the stator and rotor CSV files and save them to the specified directory\n",
    "print(\"Cleaning stator files...\")\n",
    "clean_csv_files(stator_csv_files_str, save_directory)\n",
    "print(\"\\nCleaning rotor files...\")\n",
    "clean_csv_files(rotor_csv_files_str, save_directory)"
   ]
  },
  {
   "cell_type": "markdown",
   "metadata": {},
   "source": [
    "## Load the data from CSV files\n"
   ]
  },
  {
   "cell_type": "code",
   "execution_count": 8,
   "metadata": {},
   "outputs": [],
   "source": [
    "# List all of the CSV file paths\n",
    "stator_csv_files = [r\"D:\\MTdataset\\DL_dataset\\Python_DL\\Final_current_vibration_data\\01_SCIM_current_allfault_360V.csv\",\n",
    "r\"D:\\MTdataset\\DL_dataset\\Python_DL\\Final_current_vibration_data\\02_SCIM_current_PTPab_400V.csv\",\n",
    "r\"D:\\MTdataset\\DL_dataset\\Python_DL\\Final_current_vibration_data\\03_SCIM_current_PTPab_480V.csv\",\n",
    "r\"D:\\MTdataset\\DL_dataset\\Python_DL\\Final_current_vibration_data\\04_SCIM_current_PTGa_360V.csv\",\n",
    "r\"D:\\MTdataset\\DL_dataset\\Python_DL\\Final_current_vibration_data\\05_SCIM_current_PTGb_360V.csv\",\n",
    "r\"D:\\MTdataset\\DL_dataset\\Python_DL\\Final_current_vibration_data\\06_SCIM_current_PTGc_360V.csv\",\n",
    "r\"D:\\MTdataset\\DL_dataset\\Python_DL\\Final_current_vibration_data\\07_SCIM_current_PTPbc_400V.csv\"]\n",
    "\n",
    "rotor_csv_files = [r\"D:\\MTdataset\\DL_dataset\\Python_DL\\Final_current_vibration_data\\01_SCIM_vibration_allfault_360V.csv\",\n",
    "r\"D:\\MTdataset\\DL_dataset\\Python_DL\\Final_current_vibration_data\\02_SCIM_vibration_PTPab_400V.csv\",\n",
    "r\"D:\\MTdataset\\DL_dataset\\Python_DL\\Final_current_vibration_data\\03_SCIM_vibration_PTPab_480V.csv\",\n",
    "r\"D:\\MTdataset\\DL_dataset\\Python_DL\\Final_current_vibration_data\\04_SCIM_vibration_PTGa_360V.csv\",\n",
    "r\"D:\\MTdataset\\DL_dataset\\Python_DL\\Final_current_vibration_data\\05_SCIM_vibration_PTGb_360V.csv\",\n",
    "r\"D:\\MTdataset\\DL_dataset\\Python_DL\\Final_current_vibration_data\\06_SCIM_vibration_PTGc_360V.csv\",\n",
    "r\"D:\\MTdataset\\DL_dataset\\Python_DL\\Final_current_vibration_data\\07_SCIM_vibration_PTPbc_400V.csv\"]\n",
    "\n",
    "# Read the CSV files into pandas dataframe and convert to numpy arrays\n",
    "stator_data = [pd.read_csv(file).values for file in stator_csv_files]\n",
    "rotor_data = [pd.read_csv(file).values for file in rotor_csv_files]\n",
    "\n",
    "# Split the data into taining and validation set\n",
    "train_size = int(len(stator_data[0]) * 0.8) # 80% training data and 20% validation data\n",
    "\n",
    "train_stator_data = [data[:train_size] for data in stator_data]\n",
    "val_stator_data = [data[train_size:] for data in stator_data]\n",
    "\n",
    "train_rotor_data = [data[:train_size] for data in rotor_data]\n",
    "val_rotor_data = [data[train_size:] for data in rotor_data]"
   ]
  },
  {
   "cell_type": "markdown",
   "metadata": {},
   "source": [
    "### Data Normalization"
   ]
  },
  {
   "cell_type": "code",
   "execution_count": 9,
   "metadata": {},
   "outputs": [],
   "source": [
    "# Compute mean and std for normalization\n",
    "def compute_mean_std(data):\n",
    "    concatenated_data = np.concatenate(data, axis= 0)\n",
    "    mean = np.mean(concatenated_data, axis= 0)\n",
    "    std = np.std(concatenated_data, axis= 0)\n",
    "    return mean, std\n",
    "\n",
    "# Normalize the data\n",
    "def normalize_data(data, mean, std):\n",
    "    return [(d - mean) / std for d in data]\n",
    "\n",
    "# Compute mean and std for stator and rotor data\n",
    "stator_mean, stator_std = compute_mean_std(train_stator_data)\n",
    "rotor_mean, rotor_std = compute_mean_std(train_rotor_data) \n",
    "\n",
    "# Normalize the training data \n",
    "stator_train_data_normalized = normalize_data(train_stator_data, stator_mean, stator_std)\n",
    "rotor_train_data_normalized = normalize_data(train_rotor_data, rotor_mean, rotor_std)\n",
    "\n",
    "# Normalize the validation data using the training data statistics\n",
    "stator_val_data_normalized = normalize_data(val_stator_data, stator_mean, stator_std)\n",
    "rotor_val_data_normalized = normalize_data(val_rotor_data, rotor_mean, rotor_std)"
   ]
  },
  {
   "cell_type": "markdown",
   "metadata": {},
   "source": [
    "### Data generator function"
   ]
  },
  {
   "cell_type": "code",
   "execution_count": 10,
   "metadata": {},
   "outputs": [],
   "source": [
    "def data_generator(stator_data, rotor_data, sequence_length=100, batch_size=32):\n",
    "    # get the number of samples\n",
    "    num_samples = stator_data[0].shape[0] - sequence_length     \n",
    "\n",
    "    # Infinite loop to continuously yield the batches\n",
    "    while True:\n",
    "        # Generate batches\n",
    "        for start_idx in range(0, num_samples, batch_size):\n",
    "            stator_batch = []\n",
    "            rotor_batch = []\n",
    "            batch_y = []\n",
    "\n",
    "            for i in range(batch_size):\n",
    "                end_idx = start_idx + i + sequence_length\n",
    "                if end_idx >= num_samples:\n",
    "                    break\n",
    "                # Create sequences of length 'Sequence length'\n",
    "                stator_seq = [data[start_idx + i:end_idx, 1:] for data in stator_data] # excluding the time column\n",
    "                rotor_seq = [data[start_idx + i:end_idx, 1] for data in rotor_data] # excluding the time column & vibration is the only remaining column\n",
    "            \n",
    "                # Target is the next time step's 'Time' value in stator data (same as rotor data)\n",
    "                y = stator_data[0][end_idx, 0] # assuming time is the first column in the stator files\n",
    "\n",
    "                stator_batch.append(np.concatenate(stator_seq, axis=-1))\n",
    "                rotor_batch.append(np.concatenate(rotor_seq, axis=-1))\n",
    "                batch_y.append(y)\n",
    "        if len(stator_batch) == batch_size:\n",
    "            X_stator = np.array(stator_batch)\n",
    "            X_rotor = np.array(rotor_batch)\n",
    "            y = np.array(batch_y)\n",
    "\n",
    "            #concatenating data along the last axis\n",
    "            yield [X_stator, X_rotor], y "
   ]
  },
  {
   "cell_type": "code",
   "execution_count": 11,
   "metadata": {},
   "outputs": [],
   "source": [
    "# Create the data generator for both training and validation data with the normalized data\n",
    "\n",
    "train_generator = data_generator(stator_train_data_normalized, rotor_train_data_normalized, sequence_length=100, batch_size=32)\n",
    "validation_generator = data_generator(stator_val_data_normalized, rotor_val_data_normalized, sequence_length=100, batch_size=32)"
   ]
  },
  {
   "cell_type": "markdown",
   "metadata": {},
   "source": [
    "## Create the BiLSTM network with Time and Channel attention\n",
    "\n",
    "### Defining Time attention and Channel attention mechanisms"
   ]
  },
  {
   "cell_type": "code",
   "execution_count": 12,
   "metadata": {},
   "outputs": [],
   "source": [
    "# Define the time attention mechanism \n",
    "class TimeAttentionLayer(tf.keras.layers.Layer):\n",
    "    def __init__(self, hidden_size, **kwargs):\n",
    "        super(TimeAttentionLayer, self).__init__(**kwargs)\n",
    "        self.hidden_size = hidden_size\n",
    "        self.W_omega = Dense(hidden_size, use_bias=False)\n",
    "        self.b_omega = Dense(hidden_size, use_bias=False)\n",
    "        self.u_omega = self.add_weight(shape=(hidden_size,), initializer='random_normal', trainable=True, name='u_omega')\n",
    "\n",
    "    def call(self, inputs):\n",
    "        u_t = tf.nn.tanh(self.W_omega(inputs) + self.b_omega(inputs))\n",
    "        alpha_t = tf.nn.softmax(tf.reduce_sum(u_t * self.u_omega, axis=2, keepdims=True), axis=1)\n",
    "        context_vector = tf.reduce_sum(alpha_t * inputs, axis=1)\n",
    "        return context_vector\n",
    "\n",
    "class ChannelAttentionLayer(tf.keras.layers.Layer):\n",
    "    def __init__(self, input_shape, **kwargs):\n",
    "        super(ChannelAttentionLayer, self).__init__(**kwargs)\n",
    "        self.input_shape_param = input_shape\n",
    "        self.gmp = GlobalMaxPooling1D()\n",
    "        self.gap = GlobalAvgPool1D()\n",
    "        self.fcl = Dense(input_shape, activation='linear')\n",
    "        self.m = Dense(input_shape // 8, activation='relu')\n",
    "        self.v = Dense(input_shape // 8, activation='relu')\n",
    "        self.n = Dense(input_shape // 8, activation='relu')\n",
    "        self.W11 = Dense(input_shape // 8, activation='relu')\n",
    "        self.W12 = Dense(input_shape, activation='linear')\n",
    "        self.W21 = Dense(input_shape // 8, activation='relu')\n",
    "        self.W22 = Dense(input_shape, activation='linear')\n",
    "\n",
    "    def build(self, input_shape):\n",
    "        super(ChannelAttentionLayer, self).build(input_shape)\n",
    "\n",
    "    def compute_output_shape(self, input_shape):\n",
    "        return input_shape\n",
    "\n",
    "    def call(self, inputs):\n",
    "        batch_size, sequence_length, feature_dim = tf.shape(inputs)[0], tf.shape(inputs)[1], tf.shape(inputs)[2]\n",
    "\n",
    "        # GMP and GAP for descriptors m and v\n",
    "        gmp = self.gmp(inputs)\n",
    "        gap = self.gap(inputs)\n",
    "        \n",
    "        # Fully Connected Layer for descriptor n\n",
    "        fcl = self.fcl(inputs)\n",
    "\n",
    "        # Descriptors\n",
    "        m = self.m(gmp)\n",
    "        v = self.v(gap)\n",
    "        n = self.n(fcl)\n",
    "\n",
    "        # Multilayer Perceptrons\n",
    "        W11 = self.W11(v)\n",
    "        W12 = self.W12(W11)\n",
    "\n",
    "        W21 = self.W21(m)\n",
    "        W22 = self.W22(W21)\n",
    "\n",
    "        # reshape the descriptors to match before adding (newly updated on 11.07.2024 after errors)\n",
    "        W12_reshaped = tf.reshape(W12, [-1, feature_dim])\n",
    "        W22_reshaped = tf.reshape(W22, [-1, feature_dim])\n",
    "        n_reshaped = tf.reshape(n, [-1, feature_dim])\n",
    "\n",
    "        # Combine using element-wise summation and add n\n",
    "        combined = Add()([W12_reshaped, W22_reshaped, n_reshaped])\n",
    "\n",
    "        # Activation function to get attention weights\n",
    "        attention_weights = Activation('hard_sigmoid')(combined)\n",
    "\n",
    "        # Tile attention weights to match the input shape (newly updated on 11.07.2024 after errors)\n",
    "        attention_weights = tf.reshape(attention_weights, [batch_size, 1, feature_dim])\n",
    "        attention_weights = tf.tile(attention_weights, [1, sequence_length, 1])\n",
    "\n",
    "        # Apply attention weights\n",
    "        channel_attention = Multiply()([inputs, attention_weights])\n",
    "        return channel_attention"
   ]
  },
  {
   "cell_type": "markdown",
   "metadata": {},
   "source": [
    "## Define the model with Keras-tuner Hyperparameter tuning"
   ]
  },
  {
   "cell_type": "code",
   "execution_count": null,
   "metadata": {},
   "outputs": [],
   "source": [
    "# input shape for stator and rotor data\n",
    "stator_input_shape = (100, 6) # (sequence_length, number of stator features)\n",
    "rotor_input_shape = (100, 1) # (sequence_length, number of rotor features)\n",
    "\n",
    "# Define the model with modified channel attention mechanism and dropout\n",
    "def build_model(hp):\n",
    "    hidden_size = hp.Int('hidden_size', min_value=32, max_value=128, step=32)\n",
    "    dropout_rate = hp.Float('dropout_rate', min_value=0.2, max_value=0.6, step=0.1)\n",
    "    dense_size = hp.Int('dense_size', min_value=32, max_value=128, step=32)\n",
    "\n",
    "    # Stator current input\n",
    "    input_stator = Input(shape=stator_input_shape, name='stator_input')\n",
    "    lstm_stator = Bidirectional(LSTM(hidden_size, return_sequences=True))(input_stator)\n",
    "    time_attention_stator = TimeAttentionLayer(hidden_size)(lstm_stator)\n",
    "\n",
    "    # Rotor vibration input\n",
    "    input_rotor = Input(shape=rotor_input_shape, name='rotor_input')    \n",
    "    lstm_rotor = Bidirectional(LSTM(hidden_size, return_sequences=True))(input_rotor)\n",
    "    time_attention_rotor = TimeAttentionLayer(hidden_size)(lstm_rotor)\n",
    "\n",
    "    # Concatenate and Dense layers with Dropout\n",
    "    concatenated = Concatenate()([time_attention_stator, time_attention_rotor])\n",
    "    concatenated = tf.expand_dims(concatenated, axis=1)\n",
    "    channel_attention_layer = ChannelAttentionLayer(hidden_size * 2)(concatenated)\n",
    "    dense1 = Dense(dense_size, activation='relu')(tf.squeeze(channel_attention_layer, axis=1))\n",
    "    dropout1 = Dropout(dropout_rate)(dense1)\n",
    "    output = Dense(1)(dropout1)\n",
    "\n",
    "    model = Model(inputs=[input_stator, input_rotor], outputs=output)\n",
    "    model.compile(optimizer='adam', loss='mse')\n",
    "    return model\n",
    "\n",
    "# Setup the tuner\n",
    "tuner = kt.Hyperband(\n",
    "    build_model,\n",
    "    objective='val_loss',\n",
    "    max_epochs=10,\n",
    "    factor=3,\n",
    "    directory='my_dir',\n",
    "    project_name='mca_bilstm_tuning'\n",
    ")\n",
    "\n",
    "# Display the search space summary\n",
    "tuner.search_space_summary()\n",
    "\n",
    "tuner.search(train_generator, steps_per_epoch=(len(train_stator_data[0]) - 100) // 32, epochs=10, \n",
    "             validation_data=validation_generator, validation_steps=(len(val_stator_data[0]) - 100) // 32, \n",
    "             use_multiprocessing=True)\n",
    "\n",
    "# function to check if the graphviz package is working properly\n",
    "def check_graphviz():\n",
    "    try:\n",
    "        # Attempt to create an image of a blank graph to check the pydot/graphviz installation.\n",
    "        pydot.Dot.create(pydot.Dot())\n",
    "        return True\n",
    "    except (OSError, Exception) as e:\n",
    "        if isinstance(e, OSError):\n",
    "            print(\"Graphviz not found.\")\n",
    "        else:\n",
    "            print(\"Some other exception occurred with pydot.\")\n",
    "        return False"
   ]
  },
  {
   "cell_type": "markdown",
   "metadata": {},
   "source": [
    "### Build and Train the Best model obtained"
   ]
  },
  {
   "cell_type": "code",
   "execution_count": null,
   "metadata": {},
   "outputs": [],
   "source": [
    "# Get the best hyperparameters\n",
    "best_hps = tuner.get_best_hyperparameters(num_trials=1)[0]\n",
    "print(f\"Best hidden size: {best_hps.get('hidden_size')}\")\n",
    "print(f\"Best dropout rate: {best_hps.get('dropout_rate')}\")\n",
    "print(f\"Best dense rate: {best_hps.get('dense_size')}\")\n",
    "\n",
    "# Build the best model\n",
    "best_model = tuner.hypermodel.build(best_hps)\n",
    "\n",
    "# Train the best model\n",
    "# best_model.fit(train_generator, steps_per_epoch=(len(train_stator_data[0]) - 100) // 32, epochs=10,\n",
    "               # validation_data=validation_generator, validation_steps=(len(val_stator_data[0]) - 100 // 32)"
   ]
  },
  {
   "cell_type": "code",
   "execution_count": null,
   "metadata": {},
   "outputs": [],
   "source": [
    "\n",
    "# Check if Graphviz is installed correctly\n",
    "# if check_graphviz():\n",
    "    # Save the model architecture to a file\n",
    "    # plot_model(model, to_file='bilstm_model.png', show_shapes=True)\n",
    "# else:\n",
    "    # print(\"Graphviz is not installed or not in PATH.\")"
   ]
  },
  {
   "cell_type": "code",
   "execution_count": 18,
   "metadata": {},
   "outputs": [
    {
     "data": {
      "image/png": "[encoded data removed]",
      "text/plain": [
       "<IPython.core.display.Image object>"
      ]
     },
     "execution_count": 18,
     "metadata": {},
     "output_type": "execute_result"
    }
   ],
   "source": [
    "# Visualization Functions\n",
    "def visualize_bilstm(input_shape):\n",
    "    input_layer = Input(shape=input_shape)\n",
    "    bilstm_layer = Bidirectional(LSTM(64, return_sequences=True))(input_layer)\n",
    "    model = Model(inputs=input_layer, outputs=bilstm_layer)\n",
    "    return model\n",
    "\n",
    "def visualize_time_attention(input_shape, hidden_size):\n",
    "    input_layer = Input(shape=input_shape)\n",
    "    attention_output = TimeAttentionLayer(hidden_size)(input_layer)\n",
    "    model = Model(inputs=input_layer, outputs=attention_output)\n",
    "    return model\n",
    "\n",
    "def visualize_channel_attention(input_shape, hidden_size):\n",
    "    input_layer = Input(shape=input_shape)\n",
    "    attention_output = ChannelAttentionLayer(hidden_size)(input_layer)\n",
    "    model = Model(inputs=input_layer, outputs=attention_output)\n",
    "    return model\n",
    "\n",
    "\n",
    "bilstm_model = visualize_bilstm((100, 6))  # Adjust input_shape accordingly\n",
    "plot_model(bilstm_model, to_file='bilstm_model.png', show_shapes=True)\n",
    "\n",
    "time_attention_model = visualize_time_attention((100, 128), hidden_size=128)  # Adjust input_shape accordingly\n",
    "plot_model(time_attention_model, to_file='time_attention_model.png', show_shapes=True)\n",
    "\n",
    "channel_attention_model = visualize_channel_attention((100, 128), hidden_size=128)  # Adjust input_shape accordingly\n",
    "plot_model(channel_attention_model, to_file='channel_attention_model.png', show_shapes=True)\n",
    "\n",
    "# Build the full model for visualization\n",
    "hp = kt.HyperParameters()\n",
    "model = build_model(hp)\n",
    "# Visualize the entire model\n",
    "plot_model(model, to_file='full_model.png', show_shapes=True)"
   ]
  },
  {
   "cell_type": "markdown",
   "metadata": {},
   "source": [
    "### Calculation of Model accuracy using MSE, RMSE, MAE and R2"
   ]
  },
  {
   "cell_type": "code",
   "execution_count": null,
   "metadata": {},
   "outputs": [],
   "source": [
    "from sklearn.metrics import mean_squared_error, mean_absolute_error, r2_score\n",
    "\n",
    "# Assuming `predictions` and `true_y` are already defined as per the previous code\n",
    "mse = mean_squared_error(true_y, predictions)\n",
    "rmse = np.sqrt(mse)\n",
    "mae = mean_absolute_error(true_y, predictions)\n",
    "r2 = r2_score(true_y, predictions)\n",
    "\n",
    "print(f'Mean Squared Error (MSE): {mse}')\n",
    "print(f'Root Mean Squared Error (RMSE): {rmse}')\n",
    "print(f'Mean Absolute Error (MAE): {mae}')\n",
    "print(f'R-squared (R²): {r2}')"
   ]
  }
 ],
 "metadata": {
  "kernelspec": {
   "display_name": "DL_thesis_py309",
   "language": "python",
   "name": "dl_thesis_309"
  },
  "language_info": {
   "codemirror_mode": {
    "name": "ipython",
    "version": 3
   },
   "file_extension": ".py",
   "mimetype": "text/x-python",
   "name": "python",
   "nbconvert_exporter": "python",
   "pygments_lexer": "ipython3",
   "version": "3.9.19"
  }
 },
 "nbformat": 4,
 "nbformat_minor": 2
}
